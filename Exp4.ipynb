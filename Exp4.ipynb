{
 "cells": [
  {
   "cell_type": "code",
   "execution_count": 2,
   "id": "c84cd591",
   "metadata": {},
   "outputs": [
    {
     "name": "stdout",
     "output_type": "stream",
     "text": [
      "Collecting nltk\n",
      "  Using cached nltk-3.8.1-py3-none-any.whl.metadata (2.8 kB)\n",
      "Collecting click (from nltk)\n",
      "  Using cached click-8.1.7-py3-none-any.whl.metadata (3.0 kB)\n",
      "Collecting joblib (from nltk)\n",
      "  Downloading joblib-1.4.2-py3-none-any.whl.metadata (5.4 kB)\n",
      "Collecting regex>=2021.8.3 (from nltk)\n",
      "  Downloading regex-2024.5.15-cp312-cp312-win_amd64.whl.metadata (41 kB)\n",
      "     ---------------------------------------- 0.0/42.0 kB ? eta -:--:--\n",
      "     --------- ------------------------------ 10.2/42.0 kB ? eta -:--:--\n",
      "     ------------------ ------------------- 20.5/42.0 kB 330.3 kB/s eta 0:00:01\n",
      "     -------------------------------------- 42.0/42.0 kB 406.8 kB/s eta 0:00:00\n",
      "Collecting tqdm (from nltk)\n",
      "  Downloading tqdm-4.66.4-py3-none-any.whl.metadata (57 kB)\n",
      "     ---------------------------------------- 0.0/57.6 kB ? eta -:--:--\n",
      "     --------------------- ------------------ 30.7/57.6 kB ? eta -:--:--\n",
      "     ---------------------------------------- 57.6/57.6 kB 1.0 MB/s eta 0:00:00\n",
      "Requirement already satisfied: colorama in c:\\users\\sumanthbekal\\appdata\\roaming\\python\\python312\\site-packages (from click->nltk) (0.4.6)\n",
      "Using cached nltk-3.8.1-py3-none-any.whl (1.5 MB)\n",
      "Downloading regex-2024.5.15-cp312-cp312-win_amd64.whl (268 kB)\n",
      "   ---------------------------------------- 0.0/268.5 kB ? eta -:--:--\n",
      "   - -------------------------------------- 10.2/268.5 kB ? eta -:--:--\n",
      "   -------- ------------------------------ 61.4/268.5 kB 812.7 kB/s eta 0:00:01\n",
      "   ----------- --------------------------- 81.9/268.5 kB 573.4 kB/s eta 0:00:01\n",
      "   ----------------- -------------------- 122.9/268.5 kB 654.9 kB/s eta 0:00:01\n",
      "   -------------------- ----------------- 143.4/268.5 kB 708.1 kB/s eta 0:00:01\n",
      "   ----------------------- -------------- 163.8/268.5 kB 614.4 kB/s eta 0:00:01\n",
      "   ------------------------ ------------- 174.1/268.5 kB 551.6 kB/s eta 0:00:01\n",
      "   ------------------------------- ------ 225.3/268.5 kB 655.6 kB/s eta 0:00:01\n",
      "   ---------------------------------- --- 245.8/268.5 kB 654.2 kB/s eta 0:00:01\n",
      "   -------------------------------------  266.2/268.5 kB 584.5 kB/s eta 0:00:01\n",
      "   -------------------------------------- 268.5/268.5 kB 589.6 kB/s eta 0:00:00\n",
      "Using cached click-8.1.7-py3-none-any.whl (97 kB)\n",
      "Downloading joblib-1.4.2-py3-none-any.whl (301 kB)\n",
      "   ---------------------------------------- 0.0/301.8 kB ? eta -:--:--\n",
      "   ---- ----------------------------------- 30.7/301.8 kB ? eta -:--:--\n",
      "   ------- ------------------------------- 61.4/301.8 kB 825.8 kB/s eta 0:00:01\n",
      "   ----------- --------------------------- 92.2/301.8 kB 751.6 kB/s eta 0:00:01\n",
      "   --------------- ---------------------- 122.9/301.8 kB 804.6 kB/s eta 0:00:01\n",
      "   ------------------- ------------------ 153.6/301.8 kB 706.2 kB/s eta 0:00:01\n",
      "   --------------------- ---------------- 174.1/301.8 kB 655.4 kB/s eta 0:00:01\n",
      "   ------------------------ ------------- 194.6/301.8 kB 695.5 kB/s eta 0:00:01\n",
      "   ----------------------------- -------- 235.5/301.8 kB 686.8 kB/s eta 0:00:01\n",
      "   -------------------------------- ----- 256.0/301.8 kB 684.6 kB/s eta 0:00:01\n",
      "   -------------------------------------- 301.8/301.8 kB 692.6 kB/s eta 0:00:00\n",
      "Downloading tqdm-4.66.4-py3-none-any.whl (78 kB)\n",
      "   ---------------------------------------- 0.0/78.3 kB ? eta -:--:--\n",
      "   --------------- ------------------------ 30.7/78.3 kB 1.3 MB/s eta 0:00:01\n",
      "   ------------------------------------ --- 71.7/78.3 kB 787.7 kB/s eta 0:00:01\n",
      "   ---------------------------------------- 78.3/78.3 kB 723.8 kB/s eta 0:00:00\n",
      "Installing collected packages: tqdm, regex, joblib, click, nltk\n",
      "Successfully installed click-8.1.7 joblib-1.4.2 nltk-3.8.1 regex-2024.5.15 tqdm-4.66.4\n",
      "Note: you may need to restart the kernel to use updated packages.\n"
     ]
    },
    {
     "name": "stderr",
     "output_type": "stream",
     "text": [
      "\n",
      "[notice] A new release of pip is available: 24.0 -> 24.1.2\n",
      "[notice] To update, run: python.exe -m pip install --upgrade pip\n"
     ]
    }
   ],
   "source": [
    "pip install nltk"
   ]
  },
  {
   "cell_type": "code",
   "execution_count": 3,
   "id": "c0993b22-7f1e-4ad2-a978-abd676798a6b",
   "metadata": {
    "tags": []
   },
   "outputs": [
    {
     "name": "stdout",
     "output_type": "stream",
     "text": [
      "\n",
      "Top-Down Parsing:\n",
      "(S (NP (DT the) (NN cat)) (VP (V saw) (NP (DT the) (NN dog))))\n",
      "             S             \n",
      "      _______|___           \n",
      "     |           VP        \n",
      "     |        ___|___       \n",
      "     NP      |       NP    \n",
      "  ___|___    |    ___|___   \n",
      " DT      NN  V   DT      NN\n",
      " |       |   |   |       |  \n",
      "the     cat saw the     dog\n",
      "\n",
      "\n",
      "Bottom-Up Parsing:\n",
      "(S (NP (DT the) (NN cat)) (VP (V saw) (NP (DT the) (NN dog))))\n",
      "             S             \n",
      "      _______|___           \n",
      "     |           VP        \n",
      "     |        ___|___       \n",
      "     NP      |       NP    \n",
      "  ___|___    |    ___|___   \n",
      " DT      NN  V   DT      NN\n",
      " |       |   |   |       |  \n",
      "the     cat saw the     dog\n",
      "\n"
     ]
    }
   ],
   "source": [
    "import nltk\n",
    "from nltk import CFG\n",
    "from nltk.parse import RecursiveDescentParser, ShiftReduceParser\n",
    "\n",
    "# Define a simple context-free grammar\n",
    "grammar = CFG.fromstring(\"\"\"\n",
    "    S -> NP VP\n",
    "    NP -> DT NN\n",
    "    VP -> V NP\n",
    "    DT -> 'the'\n",
    "    NN -> 'cat' | 'dog' | 'telescope' | 'park'\n",
    "    V -> 'saw' | 'chased'\n",
    "\"\"\")\n",
    "\n",
    "# Example sentence\n",
    "sentence = \"the cat saw the dog\".split()\n",
    "\n",
    "# Function to parse and print the parse trees\n",
    "def parse_and_print(parser, sentence, parser_name):\n",
    "    print(f\"\\n{parser_name} Parsing:\")\n",
    "    for tree in parser.parse(sentence):\n",
    "        print(tree)\n",
    "        tree.pretty_print()\n",
    "\n",
    "# Top-Down Parsing using RecursiveDescentParser\n",
    "parse_and_print(RecursiveDescentParser(grammar), sentence, \"Top-Down\")\n",
    "\n",
    "# Bottom-Up Parsing using ShiftReduceParser\n",
    "parse_and_print(ShiftReduceParser(grammar), sentence, \"Bottom-Up\")\n"
   ]
  }
 ],
 "metadata": {
  "kernelspec": {
   "display_name": "Python 3 (ipykernel)",
   "language": "python",
   "name": "python3"
  },
  "language_info": {
   "codemirror_mode": {
    "name": "ipython",
    "version": 3
   },
   "file_extension": ".py",
   "mimetype": "text/x-python",
   "name": "python",
   "nbconvert_exporter": "python",
   "pygments_lexer": "ipython3",
   "version": "3.12.2"
  }
 },
 "nbformat": 4,
 "nbformat_minor": 5
}
